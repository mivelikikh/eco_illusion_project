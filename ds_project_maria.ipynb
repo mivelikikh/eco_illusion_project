{
 "cells": [
  {
   "cell_type": "markdown",
   "id": "57ffabd3",
   "metadata": {},
   "source": [
    "# TODO\n",
    "\n",
    "## Emilija\n",
    "\n",
    "**Rebound effect** (Emilija was talking about before): to see if for example in modern buildings people maybe heat more because it is cheaper or smth else\n",
    "\n",
    "## Claas\n",
    "\n",
    "**Find discontinuity**: we could look for EU or country regulations that suddenly influence the building of houses or their energy consumption and see if that had a direct effect on the actual consumption"
   ]
  },
  {
   "cell_type": "markdown",
   "id": "9404050b",
   "metadata": {},
   "source": [
    "# Description"
   ]
  },
  {
   "cell_type": "markdown",
   "id": "fe850368",
   "metadata": {},
   "source": [
    "## Dataset - ASHRAE - Great Energy Predictor III\n",
    "\n",
    "Initially, this dataset was used for a global competetion. In this competition, participants should develop accurate models of metered building energy usage in the following areas: chilled water, electric, hot water, and steam meters.\n",
    "\n",
    "Assessing the value of energy efficiency improvements can be challenging as there's no way to truly know how much energy a building would have used without the improvements. The best participants can do is to build counterfactual models. Once a building is overhauled the new (lower) energy consumption is compared against modeled values for the original building to calculate the savings from the retrofit. More accurate models could support better market incentives and enable lower cost financing.\n",
    "\n",
    "The dataset includes $3$ years of hourly meter readings from over one thousand buildings at several different sites around the world.\n",
    "\n",
    "### Files\n",
    "\n",
    "#### train.csv\n",
    "\n",
    "* `building_id` - Foreign key for the building metadata.\n",
    "\n",
    "* `meter` - The meter id code. Read as {0: electricity, 1: chilledwater, 2: steam, 3: hotwater}. Not every building has all meter types.\n",
    "\n",
    "* `timestamp` - When the measurement was taken\n",
    "\n",
    "* `meter_reading` - The target variable. Energy consumption in kWh (or equivalent). Note that this is real data with measurement error, which we expect will impose a baseline level of modeling error.\n",
    "\n",
    "#### building_meta.csv\n",
    "\n",
    "* `site_id` - Foreign key for the weather files.\n",
    "\n",
    "* `building_id` - Foreign key for training.csv\n",
    "\n",
    "* `primary_use` - Indicator of the primary category of activities for the building based on [EnergyStar property type definitions](https://www.energystar.gov/buildings/benchmark/understand_metrics/property_types)\n",
    "\n",
    "* `square_feet` - Gross floor area of the building\n",
    "\n",
    "* `year_built` - Year building was opened\n",
    "\n",
    "* `floor_count` - Number of floors of the building\n",
    "\n",
    "#### weather_[train/test].csv\n",
    "\n",
    "Weather data from a meteorological station as close as possible to the site.\n",
    "\n",
    "* `site_id`\n",
    "\n",
    "* `air_temperature` - Degrees Celsius\n",
    "\n",
    "* `cloud_coverage` - Portion of the sky covered in clouds, in oktas\n",
    "\n",
    "* `dew_temperature` - Degrees Celsius\n",
    "\n",
    "* `precip_depth_1_hr` - Millimeters\n",
    "\n",
    "* `sea_level_pressure` - Millibar/hectopascals\n",
    "\n",
    "* `wind_direction` - Compass direction (0-360)\n",
    "\n",
    "* `wind_speed` - Meters per second\n",
    "\n",
    "#### test.csv\n",
    "\n",
    "The submission files use row numbers for ID codes in order to save space on the file uploads. `test.csv` has no feature data; it exists so you can get your predictions into the correct order.\n",
    "\n",
    "* `row_id` - Row id for your submission file\n",
    "\n",
    "* `building_id` - Building id code\n",
    "\n",
    "* `meter` - The meter id code\n",
    "\n",
    "* `timestamp` - Timestamps for the test data period\n",
    "\n",
    "#### sample_submission.csv\n",
    "\n",
    "A valid sample submission.\n",
    "\n",
    "* All floats in the solution file were truncated to four decimal places; we recommend you do the same to save space on your file upload.\n",
    "* There are gaps in some of the meter readings for both the train and test sets. Gaps in the test set are not revealed or scored."
   ]
  },
  {
   "cell_type": "markdown",
   "id": "c1141a22",
   "metadata": {},
   "source": [
    "# Problem\n",
    "\n",
    "Our work will be directed in a slightly different direction. \n",
    "\n",
    "**We want to understand how the energy consumption of buildings depends on the year they were built. We assume that the older the building, the greater the energy consumption may be, since it is usually difficult to equip such buildings with modern equipment.**\n",
    "\n",
    "This may be due to the fact that people, when building a certain building, could not predict in which direction technologies might develop further, so they did not take into account that in the future\n",
    "1. a basement or attic might be needed to put equipment there\n",
    "2. add an elevator to the building to make it easier to transport equipment from the first floor to the last and for other reasons."
   ]
  },
  {
   "cell_type": "markdown",
   "id": "a384324d",
   "metadata": {},
   "source": [
    "# Data\n",
    "\n",
    "Based on this research question, we will primarily use data from the `train.csv` and `building_meta.csv` files."
   ]
  },
  {
   "cell_type": "code",
   "execution_count": 24,
   "id": "6a5d5914",
   "metadata": {},
   "outputs": [],
   "source": [
    "import pandas as pd\n",
    "from scipy.stats import skew"
   ]
  },
  {
   "cell_type": "markdown",
   "id": "02f06663",
   "metadata": {},
   "source": [
    "## 1. Data Reading"
   ]
  },
  {
   "cell_type": "code",
   "execution_count": 2,
   "id": "e84309b8",
   "metadata": {},
   "outputs": [],
   "source": [
    "train = pd.read_csv('data/train.csv')\n",
    "building_metadata = pd.read_csv('data/building_metadata.csv')"
   ]
  },
  {
   "cell_type": "code",
   "execution_count": 3,
   "id": "39d5d229",
   "metadata": {},
   "outputs": [
    {
     "data": {
      "text/html": [
       "<div>\n",
       "<style scoped>\n",
       "    .dataframe tbody tr th:only-of-type {\n",
       "        vertical-align: middle;\n",
       "    }\n",
       "\n",
       "    .dataframe tbody tr th {\n",
       "        vertical-align: top;\n",
       "    }\n",
       "\n",
       "    .dataframe thead th {\n",
       "        text-align: right;\n",
       "    }\n",
       "</style>\n",
       "<table border=\"1\" class=\"dataframe\">\n",
       "  <thead>\n",
       "    <tr style=\"text-align: right;\">\n",
       "      <th></th>\n",
       "      <th>building_id</th>\n",
       "      <th>meter</th>\n",
       "      <th>timestamp</th>\n",
       "      <th>meter_reading</th>\n",
       "    </tr>\n",
       "  </thead>\n",
       "  <tbody>\n",
       "    <tr>\n",
       "      <th>0</th>\n",
       "      <td>0</td>\n",
       "      <td>0</td>\n",
       "      <td>2016-01-01 00:00:00</td>\n",
       "      <td>0.000</td>\n",
       "    </tr>\n",
       "    <tr>\n",
       "      <th>1</th>\n",
       "      <td>1</td>\n",
       "      <td>0</td>\n",
       "      <td>2016-01-01 00:00:00</td>\n",
       "      <td>0.000</td>\n",
       "    </tr>\n",
       "    <tr>\n",
       "      <th>2</th>\n",
       "      <td>2</td>\n",
       "      <td>0</td>\n",
       "      <td>2016-01-01 00:00:00</td>\n",
       "      <td>0.000</td>\n",
       "    </tr>\n",
       "    <tr>\n",
       "      <th>3</th>\n",
       "      <td>3</td>\n",
       "      <td>0</td>\n",
       "      <td>2016-01-01 00:00:00</td>\n",
       "      <td>0.000</td>\n",
       "    </tr>\n",
       "    <tr>\n",
       "      <th>4</th>\n",
       "      <td>4</td>\n",
       "      <td>0</td>\n",
       "      <td>2016-01-01 00:00:00</td>\n",
       "      <td>0.000</td>\n",
       "    </tr>\n",
       "    <tr>\n",
       "      <th>...</th>\n",
       "      <td>...</td>\n",
       "      <td>...</td>\n",
       "      <td>...</td>\n",
       "      <td>...</td>\n",
       "    </tr>\n",
       "    <tr>\n",
       "      <th>20216095</th>\n",
       "      <td>1444</td>\n",
       "      <td>0</td>\n",
       "      <td>2016-12-31 23:00:00</td>\n",
       "      <td>8.750</td>\n",
       "    </tr>\n",
       "    <tr>\n",
       "      <th>20216096</th>\n",
       "      <td>1445</td>\n",
       "      <td>0</td>\n",
       "      <td>2016-12-31 23:00:00</td>\n",
       "      <td>4.825</td>\n",
       "    </tr>\n",
       "    <tr>\n",
       "      <th>20216097</th>\n",
       "      <td>1446</td>\n",
       "      <td>0</td>\n",
       "      <td>2016-12-31 23:00:00</td>\n",
       "      <td>0.000</td>\n",
       "    </tr>\n",
       "    <tr>\n",
       "      <th>20216098</th>\n",
       "      <td>1447</td>\n",
       "      <td>0</td>\n",
       "      <td>2016-12-31 23:00:00</td>\n",
       "      <td>159.575</td>\n",
       "    </tr>\n",
       "    <tr>\n",
       "      <th>20216099</th>\n",
       "      <td>1448</td>\n",
       "      <td>0</td>\n",
       "      <td>2016-12-31 23:00:00</td>\n",
       "      <td>2.850</td>\n",
       "    </tr>\n",
       "  </tbody>\n",
       "</table>\n",
       "<p>20216100 rows × 4 columns</p>\n",
       "</div>"
      ],
      "text/plain": [
       "          building_id  meter            timestamp  meter_reading\n",
       "0                   0      0  2016-01-01 00:00:00          0.000\n",
       "1                   1      0  2016-01-01 00:00:00          0.000\n",
       "2                   2      0  2016-01-01 00:00:00          0.000\n",
       "3                   3      0  2016-01-01 00:00:00          0.000\n",
       "4                   4      0  2016-01-01 00:00:00          0.000\n",
       "...               ...    ...                  ...            ...\n",
       "20216095         1444      0  2016-12-31 23:00:00          8.750\n",
       "20216096         1445      0  2016-12-31 23:00:00          4.825\n",
       "20216097         1446      0  2016-12-31 23:00:00          0.000\n",
       "20216098         1447      0  2016-12-31 23:00:00        159.575\n",
       "20216099         1448      0  2016-12-31 23:00:00          2.850\n",
       "\n",
       "[20216100 rows x 4 columns]"
      ]
     },
     "execution_count": 3,
     "metadata": {},
     "output_type": "execute_result"
    }
   ],
   "source": [
    "train"
   ]
  },
  {
   "cell_type": "code",
   "execution_count": 4,
   "id": "c311484f",
   "metadata": {},
   "outputs": [
    {
     "data": {
      "text/html": [
       "<div>\n",
       "<style scoped>\n",
       "    .dataframe tbody tr th:only-of-type {\n",
       "        vertical-align: middle;\n",
       "    }\n",
       "\n",
       "    .dataframe tbody tr th {\n",
       "        vertical-align: top;\n",
       "    }\n",
       "\n",
       "    .dataframe thead th {\n",
       "        text-align: right;\n",
       "    }\n",
       "</style>\n",
       "<table border=\"1\" class=\"dataframe\">\n",
       "  <thead>\n",
       "    <tr style=\"text-align: right;\">\n",
       "      <th></th>\n",
       "      <th>site_id</th>\n",
       "      <th>building_id</th>\n",
       "      <th>primary_use</th>\n",
       "      <th>square_feet</th>\n",
       "      <th>year_built</th>\n",
       "      <th>floor_count</th>\n",
       "    </tr>\n",
       "  </thead>\n",
       "  <tbody>\n",
       "    <tr>\n",
       "      <th>0</th>\n",
       "      <td>0</td>\n",
       "      <td>0</td>\n",
       "      <td>Education</td>\n",
       "      <td>7432</td>\n",
       "      <td>2008.0</td>\n",
       "      <td>NaN</td>\n",
       "    </tr>\n",
       "    <tr>\n",
       "      <th>1</th>\n",
       "      <td>0</td>\n",
       "      <td>1</td>\n",
       "      <td>Education</td>\n",
       "      <td>2720</td>\n",
       "      <td>2004.0</td>\n",
       "      <td>NaN</td>\n",
       "    </tr>\n",
       "    <tr>\n",
       "      <th>2</th>\n",
       "      <td>0</td>\n",
       "      <td>2</td>\n",
       "      <td>Education</td>\n",
       "      <td>5376</td>\n",
       "      <td>1991.0</td>\n",
       "      <td>NaN</td>\n",
       "    </tr>\n",
       "    <tr>\n",
       "      <th>3</th>\n",
       "      <td>0</td>\n",
       "      <td>3</td>\n",
       "      <td>Education</td>\n",
       "      <td>23685</td>\n",
       "      <td>2002.0</td>\n",
       "      <td>NaN</td>\n",
       "    </tr>\n",
       "    <tr>\n",
       "      <th>4</th>\n",
       "      <td>0</td>\n",
       "      <td>4</td>\n",
       "      <td>Education</td>\n",
       "      <td>116607</td>\n",
       "      <td>1975.0</td>\n",
       "      <td>NaN</td>\n",
       "    </tr>\n",
       "    <tr>\n",
       "      <th>...</th>\n",
       "      <td>...</td>\n",
       "      <td>...</td>\n",
       "      <td>...</td>\n",
       "      <td>...</td>\n",
       "      <td>...</td>\n",
       "      <td>...</td>\n",
       "    </tr>\n",
       "    <tr>\n",
       "      <th>1444</th>\n",
       "      <td>15</td>\n",
       "      <td>1444</td>\n",
       "      <td>Entertainment/public assembly</td>\n",
       "      <td>19619</td>\n",
       "      <td>1914.0</td>\n",
       "      <td>NaN</td>\n",
       "    </tr>\n",
       "    <tr>\n",
       "      <th>1445</th>\n",
       "      <td>15</td>\n",
       "      <td>1445</td>\n",
       "      <td>Education</td>\n",
       "      <td>4298</td>\n",
       "      <td>NaN</td>\n",
       "      <td>NaN</td>\n",
       "    </tr>\n",
       "    <tr>\n",
       "      <th>1446</th>\n",
       "      <td>15</td>\n",
       "      <td>1446</td>\n",
       "      <td>Entertainment/public assembly</td>\n",
       "      <td>11265</td>\n",
       "      <td>1997.0</td>\n",
       "      <td>NaN</td>\n",
       "    </tr>\n",
       "    <tr>\n",
       "      <th>1447</th>\n",
       "      <td>15</td>\n",
       "      <td>1447</td>\n",
       "      <td>Lodging/residential</td>\n",
       "      <td>29775</td>\n",
       "      <td>2001.0</td>\n",
       "      <td>NaN</td>\n",
       "    </tr>\n",
       "    <tr>\n",
       "      <th>1448</th>\n",
       "      <td>15</td>\n",
       "      <td>1448</td>\n",
       "      <td>Office</td>\n",
       "      <td>92271</td>\n",
       "      <td>2001.0</td>\n",
       "      <td>NaN</td>\n",
       "    </tr>\n",
       "  </tbody>\n",
       "</table>\n",
       "<p>1449 rows × 6 columns</p>\n",
       "</div>"
      ],
      "text/plain": [
       "      site_id  building_id                    primary_use  square_feet  \\\n",
       "0           0            0                      Education         7432   \n",
       "1           0            1                      Education         2720   \n",
       "2           0            2                      Education         5376   \n",
       "3           0            3                      Education        23685   \n",
       "4           0            4                      Education       116607   \n",
       "...       ...          ...                            ...          ...   \n",
       "1444       15         1444  Entertainment/public assembly        19619   \n",
       "1445       15         1445                      Education         4298   \n",
       "1446       15         1446  Entertainment/public assembly        11265   \n",
       "1447       15         1447            Lodging/residential        29775   \n",
       "1448       15         1448                         Office        92271   \n",
       "\n",
       "      year_built  floor_count  \n",
       "0         2008.0          NaN  \n",
       "1         2004.0          NaN  \n",
       "2         1991.0          NaN  \n",
       "3         2002.0          NaN  \n",
       "4         1975.0          NaN  \n",
       "...          ...          ...  \n",
       "1444      1914.0          NaN  \n",
       "1445         NaN          NaN  \n",
       "1446      1997.0          NaN  \n",
       "1447      2001.0          NaN  \n",
       "1448      2001.0          NaN  \n",
       "\n",
       "[1449 rows x 6 columns]"
      ]
     },
     "execution_count": 4,
     "metadata": {},
     "output_type": "execute_result"
    }
   ],
   "source": [
    "building_metadata"
   ]
  },
  {
   "cell_type": "markdown",
   "id": "281b3b85",
   "metadata": {},
   "source": [
    "## 2. Data Preprocessing"
   ]
  },
  {
   "cell_type": "code",
   "execution_count": 5,
   "id": "e869d68d",
   "metadata": {},
   "outputs": [
    {
     "name": "stdout",
     "output_type": "stream",
     "text": [
      "Features: ['building_id', 'meter', 'timestamp', 'meter_reading']\n",
      "\n",
      "Number of observations 20216100\n",
      "Number of features 4\n"
     ]
    }
   ],
   "source": [
    "train_columns = list(train.columns)\n",
    "print(f\"Features: {train_columns}\")\n",
    "print()\n",
    "\n",
    "train_shape = train.shape\n",
    "print(f\"Number of observations {train_shape[0]}\")\n",
    "print(f\"Number of features {train_shape[1]}\")"
   ]
  },
  {
   "cell_type": "code",
   "execution_count": 6,
   "id": "4b9b32d4",
   "metadata": {},
   "outputs": [
    {
     "name": "stdout",
     "output_type": "stream",
     "text": [
      "Features: ['site_id', 'building_id', 'primary_use', 'square_feet', 'year_built', 'floor_count']\n",
      "\n",
      "Number of observations 1449\n",
      "Number of features 6\n"
     ]
    }
   ],
   "source": [
    "building_metadata_columns = list(building_metadata.columns)\n",
    "print(f\"Features: {building_metadata_columns}\")\n",
    "print()\n",
    "\n",
    "building_metadata_shape = building_metadata.shape\n",
    "print(f\"Number of observations {building_metadata_shape[0]}\")\n",
    "print(f\"Number of features {building_metadata_shape[1]}\")"
   ]
  },
  {
   "cell_type": "markdown",
   "id": "22989513",
   "metadata": {},
   "source": [
    "### 2.1. Data Cleaning\n",
    "\n",
    "#### 2.1.1. NaN detection"
   ]
  },
  {
   "cell_type": "code",
   "execution_count": 7,
   "id": "87823ec3",
   "metadata": {},
   "outputs": [
    {
     "data": {
      "text/plain": [
       "building_id      0\n",
       "meter            0\n",
       "timestamp        0\n",
       "meter_reading    0\n",
       "dtype: int64"
      ]
     },
     "execution_count": 7,
     "metadata": {},
     "output_type": "execute_result"
    }
   ],
   "source": [
    "train.isna().sum()"
   ]
  },
  {
   "cell_type": "code",
   "execution_count": 8,
   "id": "107cfa25",
   "metadata": {},
   "outputs": [
    {
     "data": {
      "text/plain": [
       "site_id           0\n",
       "building_id       0\n",
       "primary_use       0\n",
       "square_feet       0\n",
       "year_built      774\n",
       "floor_count    1094\n",
       "dtype: int64"
      ]
     },
     "execution_count": 8,
     "metadata": {},
     "output_type": "execute_result"
    }
   ],
   "source": [
    "building_metadata.isna().sum()"
   ]
  },
  {
   "cell_type": "markdown",
   "id": "42129a9d",
   "metadata": {},
   "source": [
    "There is no NaN values in the `train.csv`\n",
    "\n",
    "However, there are $774$ NaN values for the `year_built` feature and $1094$ NaN for the `floor_count` in the `building_metadata.csv`. We cannot just drop these observations. Otherwise we will have extremely small dataset. So, we will update these values with the mean of the construction year with respect to type of the building."
   ]
  },
  {
   "cell_type": "markdown",
   "id": "077b6f88",
   "metadata": {},
   "source": [
    "#### 2.1.2. NaN manipulation (building_metadata)"
   ]
  },
  {
   "cell_type": "markdown",
   "id": "24467a45",
   "metadata": {},
   "source": [
    "First step: let's find out what building types we have."
   ]
  },
  {
   "cell_type": "code",
   "execution_count": 76,
   "id": "9832f1c6",
   "metadata": {},
   "outputs": [
    {
     "data": {
      "text/plain": [
       "['Education',\n",
       " 'Lodging/residential',\n",
       " 'Office',\n",
       " 'Entertainment/public assembly',\n",
       " 'Other',\n",
       " 'Retail',\n",
       " 'Parking',\n",
       " 'Public services',\n",
       " 'Warehouse/storage',\n",
       " 'Food sales and service',\n",
       " 'Religious worship',\n",
       " 'Healthcare',\n",
       " 'Utility',\n",
       " 'Technology/science',\n",
       " 'Manufacturing/industrial']"
      ]
     },
     "execution_count": 76,
     "metadata": {},
     "output_type": "execute_result"
    }
   ],
   "source": [
    "bulding_types = list(building_metadata['primary_use'].unique())\n",
    "bulding_types"
   ]
  },
  {
   "cell_type": "markdown",
   "id": "bbd74c32",
   "metadata": {},
   "source": [
    "Second step: make subsets with buildings of each category."
   ]
  },
  {
   "cell_type": "code",
   "execution_count": 10,
   "id": "08cbe8c7",
   "metadata": {},
   "outputs": [
    {
     "name": "stdout",
     "output_type": "stream",
     "text": [
      "Educational buildings                    : 549 years\n",
      "Lodging/residential buildings            : 147 years\n",
      "Office buildings                         : 279 years\n",
      "Entertainment/public assembly buildings  : 184 years\n",
      "Other buildings                          : 25 years\n",
      "Retail buildings                         : 11 years\n",
      "Parking buildings                        : 22 years\n",
      "Public services buildings                : 156 years\n",
      "Warehouse/storage buildings              : 13 years\n",
      "Food sales and service buildings         : 5 years\n",
      "Religious worship buildings              : 3 years\n",
      "Healthcare buildings                     : 23 years\n",
      "Utility buildings                        : 4 years\n",
      "Technology/science buildings             : 6 years\n",
      "Manufacturing/industrial buildings       : 12 years\n",
      "Services buildings                       : 10 years\n"
     ]
    }
   ],
   "source": [
    "edu_building = building_metadata[building_metadata['primary_use'] == 'Education'].copy()\n",
    "resident_building = building_metadata[building_metadata['primary_use'] == 'Lodging/residential'].copy()\n",
    "office_building = building_metadata[building_metadata['primary_use'] == 'Office'].copy()\n",
    "entertainment_building = building_metadata[building_metadata['primary_use'] == 'Entertainment/public assembly'].copy()\n",
    "other_building = building_metadata[building_metadata['primary_use'] == 'Other'].copy()\n",
    "retail_building = building_metadata[building_metadata['primary_use'] == 'Retail'].copy()\n",
    "parking_building = building_metadata[building_metadata['primary_use'] == 'Parking'].copy()\n",
    "public_building = building_metadata[building_metadata['primary_use'] == 'Public services'].copy()\n",
    "storage_building = building_metadata[building_metadata['primary_use'] == 'Warehouse/storage'].copy()\n",
    "food_building = building_metadata[building_metadata['primary_use'] == 'Food sales and service'].copy()\n",
    "religious_building = building_metadata[building_metadata['primary_use'] == 'Religious worship'].copy()\n",
    "healthcare_building = building_metadata[building_metadata['primary_use'] == 'Healthcare'].copy()\n",
    "utility_building = building_metadata[building_metadata['primary_use'] == 'Utility'].copy()\n",
    "science_building = building_metadata[building_metadata['primary_use'] == 'Technology/science'].copy()\n",
    "industrial_building = building_metadata[building_metadata['primary_use'] == 'Manufacturing/industrial'].copy()\n",
    "services_building = building_metadata[building_metadata['primary_use'] == 'Services'].copy()\n",
    "\n",
    "print(f\"Educational buildings                    : {edu_building.shape[0]} years\")\n",
    "print(f\"Lodging/residential buildings            : {resident_building.shape[0]} years\")\n",
    "print(f\"Office buildings                         : {office_building.shape[0]} years\")\n",
    "print(f\"Entertainment/public assembly buildings  : {entertainment_building.shape[0]} years\")\n",
    "print(f\"Other buildings                          : {other_building.shape[0]} years\")\n",
    "print(f\"Retail buildings                         : {retail_building.shape[0]} years\")\n",
    "print(f\"Parking buildings                        : {parking_building.shape[0]} years\")\n",
    "print(f\"Public services buildings                : {public_building.shape[0]} years\")\n",
    "print(f\"Warehouse/storage buildings              : {storage_building.shape[0]} years\")\n",
    "print(f\"Food sales and service buildings         : {food_building.shape[0]} years\")\n",
    "print(f\"Religious worship buildings              : {religious_building.shape[0]} years\")\n",
    "print(f\"Healthcare buildings                     : {healthcare_building.shape[0]} years\")\n",
    "print(f\"Utility buildings                        : {utility_building.shape[0]} years\")\n",
    "print(f\"Technology/science buildings             : {science_building.shape[0]} years\")\n",
    "print(f\"Manufacturing/industrial buildings       : {industrial_building.shape[0]} years\")\n",
    "print(f\"Services buildings                       : {services_building.shape[0]} years\")"
   ]
  },
  {
   "cell_type": "markdown",
   "id": "82b42d44",
   "metadata": {},
   "source": [
    "Then, let's compute the amount of missing values (the year of building)."
   ]
  },
  {
   "cell_type": "code",
   "execution_count": 11,
   "id": "70c85a51",
   "metadata": {},
   "outputs": [
    {
     "name": "stdout",
     "output_type": "stream",
     "text": [
      "Educational buildings                    missed 223 years\n",
      "Lodging/residential buildings            missed 62 years\n",
      "Office buildings                         missed 194 years\n",
      "Entertainment/public assembly buildings  missed 111 years\n",
      "Other buildings                          missed 19 years\n",
      "Retail buildings                         missed 4 years\n",
      "Parking buildings                        missed 8 years\n",
      "Public services buildings                missed 105 years\n",
      "Warehouse/storage buildings              missed 8 years\n",
      "Food sales and service buildings         missed 4 years\n",
      "Religious worship buildings              missed 1 years\n",
      "Healthcare buildings                     missed 15 years\n",
      "Utility buildings                        missed 1 years\n",
      "Technology/science buildings             missed 3 years\n",
      "Manufacturing/industrial buildings       missed 6 years\n",
      "Services buildings                       missed 10 years\n"
     ]
    }
   ],
   "source": [
    "nan_edu_building = building_metadata[(building_metadata['primary_use'] == 'Education') &\n",
    "                                     (building_metadata['year_built'].isna() == True)].copy()\n",
    "nan_resident_building = building_metadata[(building_metadata['primary_use'] == 'Lodging/residential') &\n",
    "                                          (building_metadata['year_built'].isna() == True)].copy()\n",
    "nan_office_building = building_metadata[(building_metadata['primary_use'] == 'Office') &\n",
    "                                        (building_metadata['year_built'].isna() == True)].copy()\n",
    "nan_entertainment_building = building_metadata[(building_metadata['primary_use'] == 'Entertainment/public assembly') &\n",
    "                                               (building_metadata['year_built'].isna() == True)].copy()\n",
    "nan_other_building = building_metadata[(building_metadata['primary_use'] == 'Other') &\n",
    "                                       (building_metadata['year_built'].isna() == True)].copy()\n",
    "nan_retail_building = building_metadata[(building_metadata['primary_use'] == 'Retail') &\n",
    "                                        (building_metadata['year_built'].isna() == True)].copy()\n",
    "nan_parking_building = building_metadata[(building_metadata['primary_use'] == 'Parking') &\n",
    "                                         (building_metadata['year_built'].isna() == True)].copy()\n",
    "nan_public_building = building_metadata[(building_metadata['primary_use'] == 'Public services') &\n",
    "                                        (building_metadata['year_built'].isna() == True)].copy()\n",
    "nan_storage_building = building_metadata[(building_metadata['primary_use'] == 'Warehouse/storage') &\n",
    "                                         (building_metadata['year_built'].isna() == True)].copy()\n",
    "nan_food_building = building_metadata[(building_metadata['primary_use'] == 'Food sales and service') &\n",
    "                                      (building_metadata['year_built'].isna() == True)].copy()\n",
    "nan_religious_building = building_metadata[(building_metadata['primary_use'] == 'Religious worship') &\n",
    "                                           (building_metadata['year_built'].isna() == True)].copy()\n",
    "nan_healthcare_building = building_metadata[(building_metadata['primary_use'] == 'Healthcare') &\n",
    "                                            (building_metadata['year_built'].isna() == True)].copy()\n",
    "nan_utility_building = building_metadata[(building_metadata['primary_use'] == 'Utility') &\n",
    "                                         (building_metadata['year_built'].isna() == True)].copy()\n",
    "nan_science_building = building_metadata[(building_metadata['primary_use'] == 'Technology/science') &\n",
    "                                         (building_metadata['year_built'].isna() == True)].copy()\n",
    "nan_industrial_building = building_metadata[(building_metadata['primary_use'] == 'Manufacturing/industrial') &\n",
    "                                            (building_metadata['year_built'].isna() == True)].copy()\n",
    "nan_services_building = building_metadata[(building_metadata['primary_use'] == 'Services') &\n",
    "                                          (building_metadata['year_built'].isna() == True)].copy()\n",
    "\n",
    "print(f\"Educational buildings                    missed {nan_edu_building.shape[0]} years\")\n",
    "print(f\"Lodging/residential buildings            missed {nan_resident_building.shape[0]} years\")\n",
    "print(f\"Office buildings                         missed {nan_office_building.shape[0]} years\")\n",
    "print(f\"Entertainment/public assembly buildings  missed {nan_entertainment_building.shape[0]} years\")\n",
    "print(f\"Other buildings                          missed {nan_other_building.shape[0]} years\")\n",
    "print(f\"Retail buildings                         missed {nan_retail_building.shape[0]} years\")\n",
    "print(f\"Parking buildings                        missed {nan_parking_building.shape[0]} years\")\n",
    "print(f\"Public services buildings                missed {nan_public_building.shape[0]} years\")\n",
    "print(f\"Warehouse/storage buildings              missed {nan_storage_building.shape[0]} years\")\n",
    "print(f\"Food sales and service buildings         missed {nan_food_building.shape[0]} years\")\n",
    "print(f\"Religious worship buildings              missed {nan_religious_building.shape[0]} years\")\n",
    "print(f\"Healthcare buildings                     missed {nan_healthcare_building.shape[0]} years\")\n",
    "print(f\"Utility buildings                        missed {nan_utility_building.shape[0]} years\")\n",
    "print(f\"Technology/science buildings             missed {nan_science_building.shape[0]} years\")\n",
    "print(f\"Manufacturing/industrial buildings       missed {nan_industrial_building.shape[0]} years\")\n",
    "print(f\"Services buildings                       missed {nan_services_building.shape[0]} years\")"
   ]
  },
  {
   "cell_type": "markdown",
   "id": "5d1181c6",
   "metadata": {},
   "source": [
    "Let's present our findings in a more understandable way:\n",
    "\n",
    "| Building Type  | Observations (Total) | NaNs | Share of NaNs |\n",
    "|----------------|----------------------|------|---------------|\n",
    "| Educational    | 549                  | 223  | 0.41          |\n",
    "| Residential    | 147                  | 62   | 0.42          |\n",
    "| Office         | 279                  | 194  | 0.69          |\n",
    "| Entertainment  | 184                  | 111  | 0.60          |\n",
    "| Other          | 25                   | 19   | 0.76          |\n",
    "| Retail         | 11                   | 4    | 0.36          |\n",
    "| Parking        | 22                   | 8    | 0.36          |\n",
    "| Public services| 156                  | 105  | 0.67          |\n",
    "| Storage        | 13                   | 8    | 0.62          |\n",
    "| Food           | 5                    | 4    | 0.8           |\n",
    "| Religious      | 3                    | 1    | 0.33          |\n",
    "| Healthcare     | 23                   | 15   | 0.65          |\n",
    "| Utility        | 4                    | 1    | 0.25          |\n",
    "| Science        | 6                    | 3    | 0.5           |\n",
    "| Industrial     | 12                   | 6    | 0.5           |\n",
    "| Services       | 10                   | 10   | 1             |\n",
    "\n",
    "So, based on this table we can conclude that we can drop Service buildings out of our research since there is no data available to explore.\n",
    "\n",
    "It will be also difficult enough to work with other categories because the share of missing values are high. This raises the question of how potential results can be skewed by working with the mean instead of the real missing value."
   ]
  },
  {
   "cell_type": "markdown",
   "id": "75408ab2",
   "metadata": {},
   "source": [
    "#### 2.1.3. NaN Drop"
   ]
  },
  {
   "cell_type": "code",
   "execution_count": 12,
   "id": "485bdd5f",
   "metadata": {},
   "outputs": [],
   "source": [
    "building_metadata = building_metadata.drop(building_metadata[building_metadata['primary_use'] == 'Services'].index)"
   ]
  },
  {
   "cell_type": "code",
   "execution_count": 13,
   "id": "40807852",
   "metadata": {},
   "outputs": [
    {
     "data": {
      "text/plain": [
       "(1439, 6)"
      ]
     },
     "execution_count": 13,
     "metadata": {},
     "output_type": "execute_result"
    }
   ],
   "source": [
    "building_metadata.shape"
   ]
  },
  {
   "cell_type": "markdown",
   "id": "656ea28e",
   "metadata": {},
   "source": [
    "#### 2.1.4. NaN Filling"
   ]
  },
  {
   "cell_type": "code",
   "execution_count": 28,
   "id": "e31c0f0b",
   "metadata": {},
   "outputs": [],
   "source": [
    "bulding_subsets = [edu_building, resident_building, office_building, entertainment_building, \n",
    "                   other_building, retail_building, parking_building, public_building, \n",
    "                   storage_building, food_building, religious_building, healthcare_building, \n",
    "                   utility_building, science_building, industrial_building]"
   ]
  },
  {
   "cell_type": "code",
   "execution_count": 78,
   "id": "f6945ed3",
   "metadata": {},
   "outputs": [
    {
     "name": "stdout",
     "output_type": "stream",
     "text": [
      "Skewness of edu_building: \n",
      "-0.14868501224955097\n"
     ]
    },
    {
     "data": {
      "image/png": "[encoded data removed]",
      "text/plain": [
       "<Figure size 432x288 with 1 Axes>"
      ]
     },
     "metadata": {
      "needs_background": "light"
     },
     "output_type": "display_data"
    }
   ],
   "source": [
    "edu_building.hist(column='year_built')\n",
    "print(f\"Skewness of edu_building: \")\n",
    "print(skew(edu_building['year_built'], nan_policy='omit'))"
   ]
  },
  {
   "cell_type": "code",
   "execution_count": null,
   "id": "1ba0dc80",
   "metadata": {},
   "outputs": [],
   "source": [
    "print(f\"edu_building data is almost perfectly symmetric (-0.15)\")\n",
    "print(f\"resident_building \")"
   ]
  },
  {
   "cell_type": "markdown",
   "id": "c4629de2",
   "metadata": {},
   "source": [
    "# TODO\n",
    "\n",
    "1. calculate the mean value of the year of construction for each category\n",
    "2. insert the resulting value into the appropriate gaps\n",
    "3. check updated subsets for nanos\n",
    "\n",
    "\n",
    "\n",
    "4. drop buildings from the Service category"
   ]
  }
 ],
 "metadata": {
  "kernelspec": {
   "display_name": "Python 3 (ipykernel)",
   "language": "python",
   "name": "python3"
  },
  "language_info": {
   "codemirror_mode": {
    "name": "ipython",
    "version": 3
   },
   "file_extension": ".py",
   "mimetype": "text/x-python",
   "name": "python",
   "nbconvert_exporter": "python",
   "pygments_lexer": "ipython3",
   "version": "3.9.12"
  }
 },
 "nbformat": 4,
 "nbformat_minor": 5
}
